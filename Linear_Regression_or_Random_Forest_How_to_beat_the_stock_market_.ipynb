{
  "cells": [
    {
      "cell_type": "markdown",
      "metadata": {
        "id": "rXLJihqE12XW"
      },
      "source": [
        "\n",
        "# Linear Regression or Random Forest: How to beat the stock market\n",
        "\n",
        "##Table of contents\n",
        "\n",
        "*   Introduction\n",
        "*   I - Linear Regression\n",
        "*   II - Random Forest Classifier\n",
        "*   III - Summary\n",
        "\n",
        "\n",
        "\n",
        "\n",
        "\n",
        "###Introduction\n",
        "\n",
        "If you are looking a quick way to make billions using Machine Learning to beat the market, well... I have you bad news: The title was a clic bait\n",
        "\n",
        "But, nevertheless, here you will find two ways to comprehend, in a better way, how to use this tools to use the stock value data in your benefit.\n",
        "\n",
        "My goal is to show a bit of what python can allow us to do with these kind of databases, from extracting information to deduce possible actions based on the behavior of data over time.\n",
        "\n",
        "Let's have fun."
      ]
    },
    {
      "cell_type": "markdown",
      "metadata": {
        "id": "4pbru-V03tqM"
      },
      "source": [
        "I - Linear Regression\n",
        "\n",
        "We are going to check what type of information these databases contains (variables and observations) and their important characteristics (column names, shape of the dataset, etc.)"
      ]
    },
    {
      "cell_type": "code",
      "execution_count": 1,
      "metadata": {
        "id": "durPrFFoHNy-"
      },
      "outputs": [],
      "source": [
        "#Importing packages to work with our database\n",
        "import numpy as np \n",
        "import pandas as pd\n",
        "import matplotlib.pyplot as plt\n",
        "%matplotlib inline\n",
        "import math "
      ]
    },
    {
      "cell_type": "code",
      "execution_count": 2,
      "metadata": {
        "id": "oLXmtCt4LLbm"
      },
      "outputs": [],
      "source": [
        "#In a first time, we will use LinearRegression from sklearn to model our data\n",
        "from sklearn.model_selection import train_test_split\n",
        "from sklearn.linear_model import LinearRegression\n",
        "from sklearn import metrics"
      ]
    },
    {
      "cell_type": "code",
      "execution_count": 3,
      "metadata": {
        "id": "1K1dMpyRLp0g"
      },
      "outputs": [],
      "source": [
        "#In this case we will use data from a company called \"APPLE INC\" (not a very notorious one), but you can use whatever data that you want \n",
        "#(if the columns and type of value fits of course)\n",
        "dataset = pd.read_csv('AAPL.csv')"
      ]
    },
    {
      "cell_type": "code",
      "execution_count": 4,
      "metadata": {
        "colab": {
          "base_uri": "https://localhost:8080/"
        },
        "id": "86Vvtjk3Sk8D",
        "outputId": "35761d18-d9aa-4a4b-a4ba-57681f91fb49"
      },
      "outputs": [
        {
          "output_type": "execute_result",
          "data": {
            "text/plain": [
              "(10661, 7)"
            ]
          },
          "metadata": {},
          "execution_count": 4
        }
      ],
      "source": [
        "#The size of our database\n",
        "dataset.shape"
      ]
    },
    {
      "cell_type": "code",
      "execution_count": 5,
      "metadata": {
        "colab": {
          "base_uri": "https://localhost:8080/",
          "height": 300
        },
        "id": "rX7chldWL_dE",
        "outputId": "be9a4b62-6e5c-4cb4-e0aa-c2a6a47f3e31"
      },
      "outputs": [
        {
          "output_type": "execute_result",
          "data": {
            "text/plain": [
              "               Open          High           Low         Close     Adj Close  \\\n",
              "count  10657.000000  10624.000000  10641.000000  10626.000000  10652.000000   \n",
              "mean      17.168431     17.396769     16.970538     17.205928     16.482386   \n",
              "std       36.319211     36.802183     35.911353     36.383768     36.003748   \n",
              "min        0.049665      0.049665      0.049107      0.049107      0.038154   \n",
              "25%        0.287946      0.299107      0.282366      0.291127      0.238217   \n",
              "50%        0.491071      0.500000      0.482143      0.491071      0.405302   \n",
              "75%       16.596071     16.795983     16.355356     16.651965     14.321080   \n",
              "max      182.630005    182.940002    179.119995    182.009995    180.683868   \n",
              "\n",
              "             Volume  \n",
              "count  1.065200e+04  \n",
              "mean   3.263916e+08  \n",
              "std    3.375762e+08  \n",
              "min    0.000000e+00  \n",
              "25%    1.201032e+08  \n",
              "50%    2.136428e+08  \n",
              "75%    4.062142e+08  \n",
              "max    7.421641e+09  "
            ],
            "text/html": [
              "\n",
              "  <div id=\"df-5e11e988-050e-4aec-951b-884a81ddaff7\">\n",
              "    <div class=\"colab-df-container\">\n",
              "      <div>\n",
              "<style scoped>\n",
              "    .dataframe tbody tr th:only-of-type {\n",
              "        vertical-align: middle;\n",
              "    }\n",
              "\n",
              "    .dataframe tbody tr th {\n",
              "        vertical-align: top;\n",
              "    }\n",
              "\n",
              "    .dataframe thead th {\n",
              "        text-align: right;\n",
              "    }\n",
              "</style>\n",
              "<table border=\"1\" class=\"dataframe\">\n",
              "  <thead>\n",
              "    <tr style=\"text-align: right;\">\n",
              "      <th></th>\n",
              "      <th>Open</th>\n",
              "      <th>High</th>\n",
              "      <th>Low</th>\n",
              "      <th>Close</th>\n",
              "      <th>Adj Close</th>\n",
              "      <th>Volume</th>\n",
              "    </tr>\n",
              "  </thead>\n",
              "  <tbody>\n",
              "    <tr>\n",
              "      <th>count</th>\n",
              "      <td>10657.000000</td>\n",
              "      <td>10624.000000</td>\n",
              "      <td>10641.000000</td>\n",
              "      <td>10626.000000</td>\n",
              "      <td>10652.000000</td>\n",
              "      <td>1.065200e+04</td>\n",
              "    </tr>\n",
              "    <tr>\n",
              "      <th>mean</th>\n",
              "      <td>17.168431</td>\n",
              "      <td>17.396769</td>\n",
              "      <td>16.970538</td>\n",
              "      <td>17.205928</td>\n",
              "      <td>16.482386</td>\n",
              "      <td>3.263916e+08</td>\n",
              "    </tr>\n",
              "    <tr>\n",
              "      <th>std</th>\n",
              "      <td>36.319211</td>\n",
              "      <td>36.802183</td>\n",
              "      <td>35.911353</td>\n",
              "      <td>36.383768</td>\n",
              "      <td>36.003748</td>\n",
              "      <td>3.375762e+08</td>\n",
              "    </tr>\n",
              "    <tr>\n",
              "      <th>min</th>\n",
              "      <td>0.049665</td>\n",
              "      <td>0.049665</td>\n",
              "      <td>0.049107</td>\n",
              "      <td>0.049107</td>\n",
              "      <td>0.038154</td>\n",
              "      <td>0.000000e+00</td>\n",
              "    </tr>\n",
              "    <tr>\n",
              "      <th>25%</th>\n",
              "      <td>0.287946</td>\n",
              "      <td>0.299107</td>\n",
              "      <td>0.282366</td>\n",
              "      <td>0.291127</td>\n",
              "      <td>0.238217</td>\n",
              "      <td>1.201032e+08</td>\n",
              "    </tr>\n",
              "    <tr>\n",
              "      <th>50%</th>\n",
              "      <td>0.491071</td>\n",
              "      <td>0.500000</td>\n",
              "      <td>0.482143</td>\n",
              "      <td>0.491071</td>\n",
              "      <td>0.405302</td>\n",
              "      <td>2.136428e+08</td>\n",
              "    </tr>\n",
              "    <tr>\n",
              "      <th>75%</th>\n",
              "      <td>16.596071</td>\n",
              "      <td>16.795983</td>\n",
              "      <td>16.355356</td>\n",
              "      <td>16.651965</td>\n",
              "      <td>14.321080</td>\n",
              "      <td>4.062142e+08</td>\n",
              "    </tr>\n",
              "    <tr>\n",
              "      <th>max</th>\n",
              "      <td>182.630005</td>\n",
              "      <td>182.940002</td>\n",
              "      <td>179.119995</td>\n",
              "      <td>182.009995</td>\n",
              "      <td>180.683868</td>\n",
              "      <td>7.421641e+09</td>\n",
              "    </tr>\n",
              "  </tbody>\n",
              "</table>\n",
              "</div>\n",
              "      <button class=\"colab-df-convert\" onclick=\"convertToInteractive('df-5e11e988-050e-4aec-951b-884a81ddaff7')\"\n",
              "              title=\"Convert this dataframe to an interactive table.\"\n",
              "              style=\"display:none;\">\n",
              "        \n",
              "  <svg xmlns=\"http://www.w3.org/2000/svg\" height=\"24px\"viewBox=\"0 0 24 24\"\n",
              "       width=\"24px\">\n",
              "    <path d=\"M0 0h24v24H0V0z\" fill=\"none\"/>\n",
              "    <path d=\"M18.56 5.44l.94 2.06.94-2.06 2.06-.94-2.06-.94-.94-2.06-.94 2.06-2.06.94zm-11 1L8.5 8.5l.94-2.06 2.06-.94-2.06-.94L8.5 2.5l-.94 2.06-2.06.94zm10 10l.94 2.06.94-2.06 2.06-.94-2.06-.94-.94-2.06-.94 2.06-2.06.94z\"/><path d=\"M17.41 7.96l-1.37-1.37c-.4-.4-.92-.59-1.43-.59-.52 0-1.04.2-1.43.59L10.3 9.45l-7.72 7.72c-.78.78-.78 2.05 0 2.83L4 21.41c.39.39.9.59 1.41.59.51 0 1.02-.2 1.41-.59l7.78-7.78 2.81-2.81c.8-.78.8-2.07 0-2.86zM5.41 20L4 18.59l7.72-7.72 1.47 1.35L5.41 20z\"/>\n",
              "  </svg>\n",
              "      </button>\n",
              "      \n",
              "  <style>\n",
              "    .colab-df-container {\n",
              "      display:flex;\n",
              "      flex-wrap:wrap;\n",
              "      gap: 12px;\n",
              "    }\n",
              "\n",
              "    .colab-df-convert {\n",
              "      background-color: #E8F0FE;\n",
              "      border: none;\n",
              "      border-radius: 50%;\n",
              "      cursor: pointer;\n",
              "      display: none;\n",
              "      fill: #1967D2;\n",
              "      height: 32px;\n",
              "      padding: 0 0 0 0;\n",
              "      width: 32px;\n",
              "    }\n",
              "\n",
              "    .colab-df-convert:hover {\n",
              "      background-color: #E2EBFA;\n",
              "      box-shadow: 0px 1px 2px rgba(60, 64, 67, 0.3), 0px 1px 3px 1px rgba(60, 64, 67, 0.15);\n",
              "      fill: #174EA6;\n",
              "    }\n",
              "\n",
              "    [theme=dark] .colab-df-convert {\n",
              "      background-color: #3B4455;\n",
              "      fill: #D2E3FC;\n",
              "    }\n",
              "\n",
              "    [theme=dark] .colab-df-convert:hover {\n",
              "      background-color: #434B5C;\n",
              "      box-shadow: 0px 1px 3px 1px rgba(0, 0, 0, 0.15);\n",
              "      filter: drop-shadow(0px 1px 2px rgba(0, 0, 0, 0.3));\n",
              "      fill: #FFFFFF;\n",
              "    }\n",
              "  </style>\n",
              "\n",
              "      <script>\n",
              "        const buttonEl =\n",
              "          document.querySelector('#df-5e11e988-050e-4aec-951b-884a81ddaff7 button.colab-df-convert');\n",
              "        buttonEl.style.display =\n",
              "          google.colab.kernel.accessAllowed ? 'block' : 'none';\n",
              "\n",
              "        async function convertToInteractive(key) {\n",
              "          const element = document.querySelector('#df-5e11e988-050e-4aec-951b-884a81ddaff7');\n",
              "          const dataTable =\n",
              "            await google.colab.kernel.invokeFunction('convertToInteractive',\n",
              "                                                     [key], {});\n",
              "          if (!dataTable) return;\n",
              "\n",
              "          const docLinkHtml = 'Like what you see? Visit the ' +\n",
              "            '<a target=\"_blank\" href=https://colab.research.google.com/notebooks/data_table.ipynb>data table notebook</a>'\n",
              "            + ' to learn more about interactive tables.';\n",
              "          element.innerHTML = '';\n",
              "          dataTable['output_type'] = 'display_data';\n",
              "          await google.colab.output.renderOutput(dataTable, element);\n",
              "          const docLink = document.createElement('div');\n",
              "          docLink.innerHTML = docLinkHtml;\n",
              "          element.appendChild(docLink);\n",
              "        }\n",
              "      </script>\n",
              "    </div>\n",
              "  </div>\n",
              "  "
            ]
          },
          "metadata": {},
          "execution_count": 5
        }
      ],
      "source": [
        "#What contains our database\n",
        "dataset.describe()"
      ]
    },
    {
      "cell_type": "code",
      "execution_count": 6,
      "metadata": {
        "colab": {
          "base_uri": "https://localhost:8080/"
        },
        "id": "fVlia9lIStYH",
        "outputId": "649817b5-c005-4c63-94fa-ea67729c678f"
      },
      "outputs": [
        {
          "output_type": "stream",
          "name": "stdout",
          "text": [
            "<class 'pandas.core.frame.DataFrame'>\n",
            "RangeIndex: 10661 entries, 0 to 10660\n",
            "Data columns (total 7 columns):\n",
            " #   Column     Non-Null Count  Dtype  \n",
            "---  ------     --------------  -----  \n",
            " 0   Date       10661 non-null  object \n",
            " 1   Open       10657 non-null  float64\n",
            " 2   High       10624 non-null  float64\n",
            " 3   Low        10641 non-null  float64\n",
            " 4   Close      10626 non-null  float64\n",
            " 5   Adj Close  10652 non-null  float64\n",
            " 6   Volume     10652 non-null  float64\n",
            "dtypes: float64(6), object(1)\n",
            "memory usage: 583.1+ KB\n"
          ]
        }
      ],
      "source": [
        "#Here we can see that our database contains some null values, so we will need to \n",
        "#fix those missing values\n",
        "dataset.info()"
      ]
    },
    {
      "cell_type": "code",
      "execution_count": 7,
      "metadata": {
        "colab": {
          "base_uri": "https://localhost:8080/"
        },
        "id": "4SDKXLTBTB-C",
        "outputId": "23d3d758-61de-4d20-85da-fa1c5ee4b6d6"
      },
      "outputs": [
        {
          "output_type": "execute_result",
          "data": {
            "text/plain": [
              "Date          0\n",
              "Open          4\n",
              "High         37\n",
              "Low          20\n",
              "Close        35\n",
              "Adj Close     9\n",
              "Volume        9\n",
              "dtype: int64"
            ]
          },
          "metadata": {},
          "execution_count": 7
        }
      ],
      "source": [
        "dataset.isnull().sum()"
      ]
    },
    {
      "cell_type": "code",
      "execution_count": 8,
      "metadata": {
        "id": "TOUCaZSeTe-n"
      },
      "outputs": [],
      "source": [
        "#we will replace the missing values with a mean value for each column\n",
        "dataset['Open'] = dataset['Open'].fillna(round(dataset['Open'].mean(),0))\n",
        "dataset['High'] = dataset['High'].fillna(round(dataset['High'].mean(),0))\n",
        "dataset['Low'] = dataset['Low'].fillna(round(dataset['Low'].mean(),0))\n",
        "dataset['Close'] = dataset['Close'].fillna(round(dataset['Close'].mean(),0))\n",
        "dataset['Volume'] = dataset['Volume'].fillna(round(dataset['Volume'].mean(),0))\n",
        "dataset['Adj Close'] = dataset['Adj Close'].fillna(round(dataset['Adj Close'].mean(),0))"
      ]
    },
    {
      "cell_type": "code",
      "execution_count": 9,
      "metadata": {
        "colab": {
          "base_uri": "https://localhost:8080/"
        },
        "id": "U1X3evA5Up4O",
        "outputId": "5672c043-d570-41a8-c682-5cc1aa387e29"
      },
      "outputs": [
        {
          "output_type": "execute_result",
          "data": {
            "text/plain": [
              "Date         0\n",
              "Open         0\n",
              "High         0\n",
              "Low          0\n",
              "Close        0\n",
              "Adj Close    0\n",
              "Volume       0\n",
              "dtype: int64"
            ]
          },
          "metadata": {},
          "execution_count": 9
        }
      ],
      "source": [
        "dataset.isnull().sum()"
      ]
    },
    {
      "cell_type": "code",
      "execution_count": 10,
      "metadata": {
        "id": "HXHMY2vpbHgo"
      },
      "outputs": [],
      "source": [
        "#putting the date column as a index for later work\n",
        "dataset = dataset.set_index('Date')"
      ]
    },
    {
      "cell_type": "code",
      "execution_count": 11,
      "metadata": {
        "colab": {
          "base_uri": "https://localhost:8080/",
          "height": 467
        },
        "id": "dDGW4MZBgTFz",
        "outputId": "ab368645-8fe0-456b-bfee-ef8ff7d159e3"
      },
      "outputs": [
        {
          "output_type": "execute_result",
          "data": {
            "text/plain": [
              "<Axes: title={'center': 'APPLE stock values'}, xlabel='Date', ylabel='Price'>"
            ]
          },
          "metadata": {},
          "execution_count": 11
        },
        {
          "output_type": "display_data",
          "data": {
            "text/plain": [
              "<Figure size 1500x700 with 1 Axes>"
            ],
            "image/png": "[encoded data removed]"
          },
          "metadata": {}
        }
      ],
      "source": [
        "#Let's see the stock behaviour through the time\n",
        "dataset.plot.line(y = 'Adj Close', use_index = True, figsize = (15,7), ylabel = 'Price', title = 'APPLE stock values')\n"
      ]
    },
    {
      "cell_type": "code",
      "execution_count": 12,
      "metadata": {
        "id": "WpDN0WEvMJBt"
      },
      "outputs": [],
      "source": [
        "#Now it's time to select the data for our Linear Regression\n",
        "X = dataset[['Open','High',\t'Low','Volume']].values\n",
        "y = dataset['Adj Close'].values"
      ]
    },
    {
      "cell_type": "code",
      "execution_count": 13,
      "metadata": {
        "id": "DpuFly5HNI28"
      },
      "outputs": [],
      "source": [
        "#Using test split we will separate our data between train and test\n",
        "X_train, X_test, y_train, y_test = train_test_split(X, y, test_size = 0.2, random_state = 0)"
      ]
    },
    {
      "cell_type": "code",
      "execution_count": 14,
      "metadata": {
        "id": "6P3yf6s7NxEn"
      },
      "outputs": [],
      "source": [
        "#Establishing our model\n",
        "regressor = LinearRegression()"
      ]
    },
    {
      "cell_type": "code",
      "execution_count": 15,
      "metadata": {
        "colab": {
          "base_uri": "https://localhost:8080/",
          "height": 74
        },
        "id": "F-Tk782WN3nL",
        "outputId": "ddf63663-a2ec-493d-f85d-2058b9cbe420"
      },
      "outputs": [
        {
          "output_type": "execute_result",
          "data": {
            "text/plain": [
              "LinearRegression()"
            ],
            "text/html": [
              "<style>#sk-container-id-1 {color: black;background-color: white;}#sk-container-id-1 pre{padding: 0;}#sk-container-id-1 div.sk-toggleable {background-color: white;}#sk-container-id-1 label.sk-toggleable__label {cursor: pointer;display: block;width: 100%;margin-bottom: 0;padding: 0.3em;box-sizing: border-box;text-align: center;}#sk-container-id-1 label.sk-toggleable__label-arrow:before {content: \"▸\";float: left;margin-right: 0.25em;color: #696969;}#sk-container-id-1 label.sk-toggleable__label-arrow:hover:before {color: black;}#sk-container-id-1 div.sk-estimator:hover label.sk-toggleable__label-arrow:before {color: black;}#sk-container-id-1 div.sk-toggleable__content {max-height: 0;max-width: 0;overflow: hidden;text-align: left;background-color: #f0f8ff;}#sk-container-id-1 div.sk-toggleable__content pre {margin: 0.2em;color: black;border-radius: 0.25em;background-color: #f0f8ff;}#sk-container-id-1 input.sk-toggleable__control:checked~div.sk-toggleable__content {max-height: 200px;max-width: 100%;overflow: auto;}#sk-container-id-1 input.sk-toggleable__control:checked~label.sk-toggleable__label-arrow:before {content: \"▾\";}#sk-container-id-1 div.sk-estimator input.sk-toggleable__control:checked~label.sk-toggleable__label {background-color: #d4ebff;}#sk-container-id-1 div.sk-label input.sk-toggleable__control:checked~label.sk-toggleable__label {background-color: #d4ebff;}#sk-container-id-1 input.sk-hidden--visually {border: 0;clip: rect(1px 1px 1px 1px);clip: rect(1px, 1px, 1px, 1px);height: 1px;margin: -1px;overflow: hidden;padding: 0;position: absolute;width: 1px;}#sk-container-id-1 div.sk-estimator {font-family: monospace;background-color: #f0f8ff;border: 1px dotted black;border-radius: 0.25em;box-sizing: border-box;margin-bottom: 0.5em;}#sk-container-id-1 div.sk-estimator:hover {background-color: #d4ebff;}#sk-container-id-1 div.sk-parallel-item::after {content: \"\";width: 100%;border-bottom: 1px solid gray;flex-grow: 1;}#sk-container-id-1 div.sk-label:hover label.sk-toggleable__label {background-color: #d4ebff;}#sk-container-id-1 div.sk-serial::before {content: \"\";position: absolute;border-left: 1px solid gray;box-sizing: border-box;top: 0;bottom: 0;left: 50%;z-index: 0;}#sk-container-id-1 div.sk-serial {display: flex;flex-direction: column;align-items: center;background-color: white;padding-right: 0.2em;padding-left: 0.2em;position: relative;}#sk-container-id-1 div.sk-item {position: relative;z-index: 1;}#sk-container-id-1 div.sk-parallel {display: flex;align-items: stretch;justify-content: center;background-color: white;position: relative;}#sk-container-id-1 div.sk-item::before, #sk-container-id-1 div.sk-parallel-item::before {content: \"\";position: absolute;border-left: 1px solid gray;box-sizing: border-box;top: 0;bottom: 0;left: 50%;z-index: -1;}#sk-container-id-1 div.sk-parallel-item {display: flex;flex-direction: column;z-index: 1;position: relative;background-color: white;}#sk-container-id-1 div.sk-parallel-item:first-child::after {align-self: flex-end;width: 50%;}#sk-container-id-1 div.sk-parallel-item:last-child::after {align-self: flex-start;width: 50%;}#sk-container-id-1 div.sk-parallel-item:only-child::after {width: 0;}#sk-container-id-1 div.sk-dashed-wrapped {border: 1px dashed gray;margin: 0 0.4em 0.5em 0.4em;box-sizing: border-box;padding-bottom: 0.4em;background-color: white;}#sk-container-id-1 div.sk-label label {font-family: monospace;font-weight: bold;display: inline-block;line-height: 1.2em;}#sk-container-id-1 div.sk-label-container {text-align: center;}#sk-container-id-1 div.sk-container {/* jupyter's `normalize.less` sets `[hidden] { display: none; }` but bootstrap.min.css set `[hidden] { display: none !important; }` so we also need the `!important` here to be able to override the default hidden behavior on the sphinx rendered scikit-learn.org. See: https://github.com/scikit-learn/scikit-learn/issues/21755 */display: inline-block !important;position: relative;}#sk-container-id-1 div.sk-text-repr-fallback {display: none;}</style><div id=\"sk-container-id-1\" class=\"sk-top-container\"><div class=\"sk-text-repr-fallback\"><pre>LinearRegression()</pre><b>In a Jupyter environment, please rerun this cell to show the HTML representation or trust the notebook. <br />On GitHub, the HTML representation is unable to render, please try loading this page with nbviewer.org.</b></div><div class=\"sk-container\" hidden><div class=\"sk-item\"><div class=\"sk-estimator sk-toggleable\"><input class=\"sk-toggleable__control sk-hidden--visually\" id=\"sk-estimator-id-1\" type=\"checkbox\" checked><label for=\"sk-estimator-id-1\" class=\"sk-toggleable__label sk-toggleable__label-arrow\">LinearRegression</label><div class=\"sk-toggleable__content\"><pre>LinearRegression()</pre></div></div></div></div></div>"
            ]
          },
          "metadata": {},
          "execution_count": 15
        }
      ],
      "source": [
        "#Fitting our model with our train data\n",
        "regressor.fit(X_train, y_train)"
      ]
    },
    {
      "cell_type": "code",
      "execution_count": 16,
      "metadata": {
        "colab": {
          "base_uri": "https://localhost:8080/"
        },
        "id": "gJr5Ipk-OJzF",
        "outputId": "2aee2a23-c8a0-4fba-a7ec-7a47d5793b30"
      },
      "outputs": [
        {
          "output_type": "stream",
          "name": "stdout",
          "text": [
            "[ 3.83834808e-01  1.89084083e-01  4.19630865e-01 -2.54375687e-10]\n"
          ]
        }
      ],
      "source": [
        "#Obtaining the coefficients of our Linear regression\n",
        "print(regressor.coef_)"
      ]
    },
    {
      "cell_type": "code",
      "execution_count": 17,
      "metadata": {
        "colab": {
          "base_uri": "https://localhost:8080/"
        },
        "id": "-LL8s6C0OYzl",
        "outputId": "c77e722c-498a-4170-97ac-7a3bd3a53519"
      },
      "outputs": [
        {
          "output_type": "stream",
          "name": "stdout",
          "text": [
            "-0.4344850198640131\n"
          ]
        }
      ],
      "source": [
        "#Obtaining our intercept\n",
        "print(regressor.intercept_)"
      ]
    },
    {
      "cell_type": "code",
      "execution_count": 18,
      "metadata": {
        "id": "_yri7B_pOgY0"
      },
      "outputs": [],
      "source": [
        "#Putting a prove our model\n",
        "prediction = regressor.predict(X_test)"
      ]
    },
    {
      "cell_type": "code",
      "execution_count": 19,
      "metadata": {
        "colab": {
          "base_uri": "https://localhost:8080/"
        },
        "id": "L28NcHT4VAYJ",
        "outputId": "3b7425f7-45b3-48ed-98e5-bf85ef0f8b09"
      },
      "outputs": [
        {
          "output_type": "stream",
          "name": "stdout",
          "text": [
            "[-3.26390340e-01 -2.12548292e-01  2.67946965e+01 ... -1.81828970e-03\n",
            "  3.28557806e-01  3.10797431e+01]\n"
          ]
        }
      ],
      "source": [
        "#Looking our results\n",
        "print(prediction)"
      ]
    },
    {
      "cell_type": "code",
      "execution_count": 20,
      "metadata": {
        "id": "G9meXMI4VWwx"
      },
      "outputs": [],
      "source": [
        "#Let's create a new dataframe with two columns: one for our test data, and\n",
        "#one for our predictions\n",
        "df = pd.DataFrame({'Actual:':y_test.flatten(), 'Predicted:':prediction.flatten()})"
      ]
    },
    {
      "cell_type": "code",
      "execution_count": 21,
      "metadata": {
        "colab": {
          "base_uri": "https://localhost:8080/"
        },
        "id": "LG2_A_OkV3P4",
        "outputId": "25eafde9-ed81-4bd6-fd93-33e59e34eb25"
      },
      "outputs": [
        {
          "output_type": "execute_result",
          "data": {
            "text/plain": [
              "<bound method DataFrame.info of         Actual:  Predicted:\n",
              "0      0.086714   -0.326390\n",
              "1      0.221443   -0.212548\n",
              "2     25.710670   26.794696\n",
              "3     16.646982   18.847998\n",
              "4      0.526782   -0.087050\n",
              "...         ...         ...\n",
              "2128   0.136787   -0.294449\n",
              "2129   0.310602   -0.132424\n",
              "2130   0.417803   -0.001818\n",
              "2131   0.750903    0.328558\n",
              "2132  28.377945   31.079743\n",
              "\n",
              "[2133 rows x 2 columns]>"
            ]
          },
          "metadata": {},
          "execution_count": 21
        }
      ],
      "source": [
        "#More easy to compare\n",
        "df.info"
      ]
    },
    {
      "cell_type": "code",
      "execution_count": 22,
      "metadata": {
        "colab": {
          "base_uri": "https://localhost:8080/"
        },
        "id": "h3-zSTSLWLQS",
        "outputId": "7cb90312-bf32-4b0b-f3cd-c374085d1c2a"
      },
      "outputs": [
        {
          "output_type": "stream",
          "name": "stdout",
          "text": [
            "Mean Absolute Error: 0.7941281642839946\n",
            "Mean Absolute percentage Error: 156.9987703607412 %\n",
            "Mean Squared Error: 2.2957397076089494\n",
            "Root Mean Squared Error: 1.515169860975643\n"
          ]
        }
      ],
      "source": [
        "#An important thing to check are the Mean Errors of our model\n",
        "print('Mean Absolute Error:', metrics.mean_absolute_error(df['Actual:'], df['Predicted:']))\n",
        "print('Mean Absolute percentage Error:', metrics.mean_absolute_percentage_error(df['Actual:'], df['Predicted:'])*100, '%')\n",
        "print('Mean Squared Error:', metrics.mean_squared_error(y_test, prediction))\n",
        "print('Root Mean Squared Error:', np.sqrt(metrics.mean_squared_error(y_test, prediction)))\n",
        "\n",
        "\n"
      ]
    },
    {
      "cell_type": "code",
      "execution_count": 23,
      "metadata": {
        "colab": {
          "base_uri": "https://localhost:8080/",
          "height": 436
        },
        "id": "bWZqQscWZEkZ",
        "outputId": "ecb083df-e287-4d0e-e98c-32d2c33b0754"
      },
      "outputs": [
        {
          "output_type": "display_data",
          "data": {
            "text/plain": [
              "<Figure size 1500x700 with 1 Axes>"
            ],
            "image/png": "[encoded data removed]"
          },
          "metadata": {}
        }
      ],
      "source": [
        "#But a better way to see this comparisson is with a plot\n",
        "plt.figure(figsize=(15, 7))\n",
        "plt.plot(df['Actual:'].tail(100), label = 'Actual')\n",
        "plt.plot(df['Predicted:'].tail(100), label = 'Predicted')\n",
        "plt.ylabel('Price')\n",
        "plt.title('APPLE Comparisson stock values')\n",
        "plt.legend(loc = 'best')\n",
        "plt.grid()\n",
        "plt.show()"
      ]
    },
    {
      "cell_type": "markdown",
      "metadata": {
        "id": "ARti55nA02RR"
      },
      "source": [
        "II - Random Forest Classifier\n",
        "\n",
        "In this case, what we are looking is to predict the tendency of the stock value (if the value increasses or decreasses) in a certain period of time."
      ]
    },
    {
      "cell_type": "code",
      "execution_count": 24,
      "metadata": {
        "id": "eYenWWtZh73w"
      },
      "outputs": [],
      "source": [
        "from sklearn.ensemble import RandomForestClassifier\n",
        "\n",
        "#With this score we can indicate how percentage of the time we \n",
        "#obtain the correct target (if the stock value rised, we predict \n",
        "#that the stock value will rise)\n",
        "from sklearn.metrics import precision_score"
      ]
    },
    {
      "cell_type": "code",
      "execution_count": 25,
      "metadata": {
        "colab": {
          "base_uri": "https://localhost:8080/",
          "height": 237
        },
        "id": "PjbuVeVzfi1-",
        "outputId": "4b1ce451-2a40-4dca-f1f5-bbdd28778156"
      },
      "outputs": [
        {
          "output_type": "execute_result",
          "data": {
            "text/plain": [
              "                Open      High       Low     Close  Adj Close       Volume  \\\n",
              "Date                                                                         \n",
              "12/12/1980  0.128348  0.128906  0.128348  0.128348   0.099722  469033600.0   \n",
              "15/12/1980  0.122210  0.122210  0.121652  0.121652   0.094519  175884800.0   \n",
              "16/12/1980  0.113281  0.113281  0.112723  0.112723   0.087581  105728000.0   \n",
              "17/12/1980  0.115513  0.116071  0.115513  0.115513   0.089749   86441600.0   \n",
              "18/12/1980  0.118862  0.119420  0.118862  0.118862   0.092351   73449600.0   \n",
              "\n",
              "            Tomorrow  \n",
              "Date                  \n",
              "12/12/1980  0.094519  \n",
              "15/12/1980  0.087581  \n",
              "16/12/1980  0.089749  \n",
              "17/12/1980  0.092351  \n",
              "18/12/1980  0.097987  "
            ],
            "text/html": [
              "\n",
              "  <div id=\"df-737b81b6-b113-4be1-b41b-7eb25db572e0\">\n",
              "    <div class=\"colab-df-container\">\n",
              "      <div>\n",
              "<style scoped>\n",
              "    .dataframe tbody tr th:only-of-type {\n",
              "        vertical-align: middle;\n",
              "    }\n",
              "\n",
              "    .dataframe tbody tr th {\n",
              "        vertical-align: top;\n",
              "    }\n",
              "\n",
              "    .dataframe thead th {\n",
              "        text-align: right;\n",
              "    }\n",
              "</style>\n",
              "<table border=\"1\" class=\"dataframe\">\n",
              "  <thead>\n",
              "    <tr style=\"text-align: right;\">\n",
              "      <th></th>\n",
              "      <th>Open</th>\n",
              "      <th>High</th>\n",
              "      <th>Low</th>\n",
              "      <th>Close</th>\n",
              "      <th>Adj Close</th>\n",
              "      <th>Volume</th>\n",
              "      <th>Tomorrow</th>\n",
              "    </tr>\n",
              "    <tr>\n",
              "      <th>Date</th>\n",
              "      <th></th>\n",
              "      <th></th>\n",
              "      <th></th>\n",
              "      <th></th>\n",
              "      <th></th>\n",
              "      <th></th>\n",
              "      <th></th>\n",
              "    </tr>\n",
              "  </thead>\n",
              "  <tbody>\n",
              "    <tr>\n",
              "      <th>12/12/1980</th>\n",
              "      <td>0.128348</td>\n",
              "      <td>0.128906</td>\n",
              "      <td>0.128348</td>\n",
              "      <td>0.128348</td>\n",
              "      <td>0.099722</td>\n",
              "      <td>469033600.0</td>\n",
              "      <td>0.094519</td>\n",
              "    </tr>\n",
              "    <tr>\n",
              "      <th>15/12/1980</th>\n",
              "      <td>0.122210</td>\n",
              "      <td>0.122210</td>\n",
              "      <td>0.121652</td>\n",
              "      <td>0.121652</td>\n",
              "      <td>0.094519</td>\n",
              "      <td>175884800.0</td>\n",
              "      <td>0.087581</td>\n",
              "    </tr>\n",
              "    <tr>\n",
              "      <th>16/12/1980</th>\n",
              "      <td>0.113281</td>\n",
              "      <td>0.113281</td>\n",
              "      <td>0.112723</td>\n",
              "      <td>0.112723</td>\n",
              "      <td>0.087581</td>\n",
              "      <td>105728000.0</td>\n",
              "      <td>0.089749</td>\n",
              "    </tr>\n",
              "    <tr>\n",
              "      <th>17/12/1980</th>\n",
              "      <td>0.115513</td>\n",
              "      <td>0.116071</td>\n",
              "      <td>0.115513</td>\n",
              "      <td>0.115513</td>\n",
              "      <td>0.089749</td>\n",
              "      <td>86441600.0</td>\n",
              "      <td>0.092351</td>\n",
              "    </tr>\n",
              "    <tr>\n",
              "      <th>18/12/1980</th>\n",
              "      <td>0.118862</td>\n",
              "      <td>0.119420</td>\n",
              "      <td>0.118862</td>\n",
              "      <td>0.118862</td>\n",
              "      <td>0.092351</td>\n",
              "      <td>73449600.0</td>\n",
              "      <td>0.097987</td>\n",
              "    </tr>\n",
              "  </tbody>\n",
              "</table>\n",
              "</div>\n",
              "      <button class=\"colab-df-convert\" onclick=\"convertToInteractive('df-737b81b6-b113-4be1-b41b-7eb25db572e0')\"\n",
              "              title=\"Convert this dataframe to an interactive table.\"\n",
              "              style=\"display:none;\">\n",
              "        \n",
              "  <svg xmlns=\"http://www.w3.org/2000/svg\" height=\"24px\"viewBox=\"0 0 24 24\"\n",
              "       width=\"24px\">\n",
              "    <path d=\"M0 0h24v24H0V0z\" fill=\"none\"/>\n",
              "    <path d=\"M18.56 5.44l.94 2.06.94-2.06 2.06-.94-2.06-.94-.94-2.06-.94 2.06-2.06.94zm-11 1L8.5 8.5l.94-2.06 2.06-.94-2.06-.94L8.5 2.5l-.94 2.06-2.06.94zm10 10l.94 2.06.94-2.06 2.06-.94-2.06-.94-.94-2.06-.94 2.06-2.06.94z\"/><path d=\"M17.41 7.96l-1.37-1.37c-.4-.4-.92-.59-1.43-.59-.52 0-1.04.2-1.43.59L10.3 9.45l-7.72 7.72c-.78.78-.78 2.05 0 2.83L4 21.41c.39.39.9.59 1.41.59.51 0 1.02-.2 1.41-.59l7.78-7.78 2.81-2.81c.8-.78.8-2.07 0-2.86zM5.41 20L4 18.59l7.72-7.72 1.47 1.35L5.41 20z\"/>\n",
              "  </svg>\n",
              "      </button>\n",
              "      \n",
              "  <style>\n",
              "    .colab-df-container {\n",
              "      display:flex;\n",
              "      flex-wrap:wrap;\n",
              "      gap: 12px;\n",
              "    }\n",
              "\n",
              "    .colab-df-convert {\n",
              "      background-color: #E8F0FE;\n",
              "      border: none;\n",
              "      border-radius: 50%;\n",
              "      cursor: pointer;\n",
              "      display: none;\n",
              "      fill: #1967D2;\n",
              "      height: 32px;\n",
              "      padding: 0 0 0 0;\n",
              "      width: 32px;\n",
              "    }\n",
              "\n",
              "    .colab-df-convert:hover {\n",
              "      background-color: #E2EBFA;\n",
              "      box-shadow: 0px 1px 2px rgba(60, 64, 67, 0.3), 0px 1px 3px 1px rgba(60, 64, 67, 0.15);\n",
              "      fill: #174EA6;\n",
              "    }\n",
              "\n",
              "    [theme=dark] .colab-df-convert {\n",
              "      background-color: #3B4455;\n",
              "      fill: #D2E3FC;\n",
              "    }\n",
              "\n",
              "    [theme=dark] .colab-df-convert:hover {\n",
              "      background-color: #434B5C;\n",
              "      box-shadow: 0px 1px 3px 1px rgba(0, 0, 0, 0.15);\n",
              "      filter: drop-shadow(0px 1px 2px rgba(0, 0, 0, 0.3));\n",
              "      fill: #FFFFFF;\n",
              "    }\n",
              "  </style>\n",
              "\n",
              "      <script>\n",
              "        const buttonEl =\n",
              "          document.querySelector('#df-737b81b6-b113-4be1-b41b-7eb25db572e0 button.colab-df-convert');\n",
              "        buttonEl.style.display =\n",
              "          google.colab.kernel.accessAllowed ? 'block' : 'none';\n",
              "\n",
              "        async function convertToInteractive(key) {\n",
              "          const element = document.querySelector('#df-737b81b6-b113-4be1-b41b-7eb25db572e0');\n",
              "          const dataTable =\n",
              "            await google.colab.kernel.invokeFunction('convertToInteractive',\n",
              "                                                     [key], {});\n",
              "          if (!dataTable) return;\n",
              "\n",
              "          const docLinkHtml = 'Like what you see? Visit the ' +\n",
              "            '<a target=\"_blank\" href=https://colab.research.google.com/notebooks/data_table.ipynb>data table notebook</a>'\n",
              "            + ' to learn more about interactive tables.';\n",
              "          element.innerHTML = '';\n",
              "          dataTable['output_type'] = 'display_data';\n",
              "          await google.colab.output.renderOutput(dataTable, element);\n",
              "          const docLink = document.createElement('div');\n",
              "          docLink.innerHTML = docLinkHtml;\n",
              "          element.appendChild(docLink);\n",
              "        }\n",
              "      </script>\n",
              "    </div>\n",
              "  </div>\n",
              "  "
            ]
          },
          "metadata": {},
          "execution_count": 25
        }
      ],
      "source": [
        "#We will try to determine the stock value in the next day, so we will create\n",
        "# the 'Tomorrow' column which will show us the next Adj Close value \n",
        "dataset['Tomorrow'] = dataset['Adj Close'].shift(-1)\n",
        "dataset.head(5)"
      ]
    },
    {
      "cell_type": "code",
      "execution_count": 26,
      "metadata": {
        "colab": {
          "base_uri": "https://localhost:8080/",
          "height": 394
        },
        "id": "Fixr4ht0gVan",
        "outputId": "4a3201f9-4790-4cef-fd66-680e29e009b6"
      },
      "outputs": [
        {
          "output_type": "execute_result",
          "data": {
            "text/plain": [
              "                  Open        High         Low       Close   Adj Close  \\\n",
              "Date                                                                     \n",
              "14/03/2023  151.279999  153.399994  150.100006  152.589996  152.589996   \n",
              "15/03/2023  151.190002  153.250000  149.919998  152.990005  152.990005   \n",
              "16/03/2023  152.160004  156.460007  151.639999  155.850006  155.850006   \n",
              "17/03/2023  156.080002  156.740005  154.279999  155.000000  155.000000   \n",
              "20/03/2023  155.070007  157.820007  154.149994  157.399994  157.399994   \n",
              "21/03/2023  157.320007  159.399994  156.539993  159.279999  159.279999   \n",
              "22/03/2023  159.300003  162.139999  157.809998  157.830002  157.830002   \n",
              "23/03/2023  158.830002  161.550003  157.679993  158.929993  158.929993   \n",
              "24/03/2023  158.860001  160.339996  157.850006  160.250000  160.250000   \n",
              "27/03/2023  159.940002  160.770004  157.869995  158.279999  158.279999   \n",
              "\n",
              "                Volume    Tomorrow  Target  \n",
              "Date                                        \n",
              "14/03/2023  73695900.0  152.990005       1  \n",
              "15/03/2023  77167900.0  155.850006       1  \n",
              "16/03/2023  76161100.0  155.000000       0  \n",
              "17/03/2023  98862500.0  157.399994       1  \n",
              "20/03/2023  73641400.0  159.279999       1  \n",
              "21/03/2023  73938300.0  157.830002       0  \n",
              "22/03/2023  75701800.0  158.929993       1  \n",
              "23/03/2023  67622100.0  160.250000       1  \n",
              "24/03/2023  59196500.0  158.279999       0  \n",
              "27/03/2023  52390300.0         NaN       0  "
            ],
            "text/html": [
              "\n",
              "  <div id=\"df-1a3bc232-f570-4573-a4ee-e4930f14c460\">\n",
              "    <div class=\"colab-df-container\">\n",
              "      <div>\n",
              "<style scoped>\n",
              "    .dataframe tbody tr th:only-of-type {\n",
              "        vertical-align: middle;\n",
              "    }\n",
              "\n",
              "    .dataframe tbody tr th {\n",
              "        vertical-align: top;\n",
              "    }\n",
              "\n",
              "    .dataframe thead th {\n",
              "        text-align: right;\n",
              "    }\n",
              "</style>\n",
              "<table border=\"1\" class=\"dataframe\">\n",
              "  <thead>\n",
              "    <tr style=\"text-align: right;\">\n",
              "      <th></th>\n",
              "      <th>Open</th>\n",
              "      <th>High</th>\n",
              "      <th>Low</th>\n",
              "      <th>Close</th>\n",
              "      <th>Adj Close</th>\n",
              "      <th>Volume</th>\n",
              "      <th>Tomorrow</th>\n",
              "      <th>Target</th>\n",
              "    </tr>\n",
              "    <tr>\n",
              "      <th>Date</th>\n",
              "      <th></th>\n",
              "      <th></th>\n",
              "      <th></th>\n",
              "      <th></th>\n",
              "      <th></th>\n",
              "      <th></th>\n",
              "      <th></th>\n",
              "      <th></th>\n",
              "    </tr>\n",
              "  </thead>\n",
              "  <tbody>\n",
              "    <tr>\n",
              "      <th>14/03/2023</th>\n",
              "      <td>151.279999</td>\n",
              "      <td>153.399994</td>\n",
              "      <td>150.100006</td>\n",
              "      <td>152.589996</td>\n",
              "      <td>152.589996</td>\n",
              "      <td>73695900.0</td>\n",
              "      <td>152.990005</td>\n",
              "      <td>1</td>\n",
              "    </tr>\n",
              "    <tr>\n",
              "      <th>15/03/2023</th>\n",
              "      <td>151.190002</td>\n",
              "      <td>153.250000</td>\n",
              "      <td>149.919998</td>\n",
              "      <td>152.990005</td>\n",
              "      <td>152.990005</td>\n",
              "      <td>77167900.0</td>\n",
              "      <td>155.850006</td>\n",
              "      <td>1</td>\n",
              "    </tr>\n",
              "    <tr>\n",
              "      <th>16/03/2023</th>\n",
              "      <td>152.160004</td>\n",
              "      <td>156.460007</td>\n",
              "      <td>151.639999</td>\n",
              "      <td>155.850006</td>\n",
              "      <td>155.850006</td>\n",
              "      <td>76161100.0</td>\n",
              "      <td>155.000000</td>\n",
              "      <td>0</td>\n",
              "    </tr>\n",
              "    <tr>\n",
              "      <th>17/03/2023</th>\n",
              "      <td>156.080002</td>\n",
              "      <td>156.740005</td>\n",
              "      <td>154.279999</td>\n",
              "      <td>155.000000</td>\n",
              "      <td>155.000000</td>\n",
              "      <td>98862500.0</td>\n",
              "      <td>157.399994</td>\n",
              "      <td>1</td>\n",
              "    </tr>\n",
              "    <tr>\n",
              "      <th>20/03/2023</th>\n",
              "      <td>155.070007</td>\n",
              "      <td>157.820007</td>\n",
              "      <td>154.149994</td>\n",
              "      <td>157.399994</td>\n",
              "      <td>157.399994</td>\n",
              "      <td>73641400.0</td>\n",
              "      <td>159.279999</td>\n",
              "      <td>1</td>\n",
              "    </tr>\n",
              "    <tr>\n",
              "      <th>21/03/2023</th>\n",
              "      <td>157.320007</td>\n",
              "      <td>159.399994</td>\n",
              "      <td>156.539993</td>\n",
              "      <td>159.279999</td>\n",
              "      <td>159.279999</td>\n",
              "      <td>73938300.0</td>\n",
              "      <td>157.830002</td>\n",
              "      <td>0</td>\n",
              "    </tr>\n",
              "    <tr>\n",
              "      <th>22/03/2023</th>\n",
              "      <td>159.300003</td>\n",
              "      <td>162.139999</td>\n",
              "      <td>157.809998</td>\n",
              "      <td>157.830002</td>\n",
              "      <td>157.830002</td>\n",
              "      <td>75701800.0</td>\n",
              "      <td>158.929993</td>\n",
              "      <td>1</td>\n",
              "    </tr>\n",
              "    <tr>\n",
              "      <th>23/03/2023</th>\n",
              "      <td>158.830002</td>\n",
              "      <td>161.550003</td>\n",
              "      <td>157.679993</td>\n",
              "      <td>158.929993</td>\n",
              "      <td>158.929993</td>\n",
              "      <td>67622100.0</td>\n",
              "      <td>160.250000</td>\n",
              "      <td>1</td>\n",
              "    </tr>\n",
              "    <tr>\n",
              "      <th>24/03/2023</th>\n",
              "      <td>158.860001</td>\n",
              "      <td>160.339996</td>\n",
              "      <td>157.850006</td>\n",
              "      <td>160.250000</td>\n",
              "      <td>160.250000</td>\n",
              "      <td>59196500.0</td>\n",
              "      <td>158.279999</td>\n",
              "      <td>0</td>\n",
              "    </tr>\n",
              "    <tr>\n",
              "      <th>27/03/2023</th>\n",
              "      <td>159.940002</td>\n",
              "      <td>160.770004</td>\n",
              "      <td>157.869995</td>\n",
              "      <td>158.279999</td>\n",
              "      <td>158.279999</td>\n",
              "      <td>52390300.0</td>\n",
              "      <td>NaN</td>\n",
              "      <td>0</td>\n",
              "    </tr>\n",
              "  </tbody>\n",
              "</table>\n",
              "</div>\n",
              "      <button class=\"colab-df-convert\" onclick=\"convertToInteractive('df-1a3bc232-f570-4573-a4ee-e4930f14c460')\"\n",
              "              title=\"Convert this dataframe to an interactive table.\"\n",
              "              style=\"display:none;\">\n",
              "        \n",
              "  <svg xmlns=\"http://www.w3.org/2000/svg\" height=\"24px\"viewBox=\"0 0 24 24\"\n",
              "       width=\"24px\">\n",
              "    <path d=\"M0 0h24v24H0V0z\" fill=\"none\"/>\n",
              "    <path d=\"M18.56 5.44l.94 2.06.94-2.06 2.06-.94-2.06-.94-.94-2.06-.94 2.06-2.06.94zm-11 1L8.5 8.5l.94-2.06 2.06-.94-2.06-.94L8.5 2.5l-.94 2.06-2.06.94zm10 10l.94 2.06.94-2.06 2.06-.94-2.06-.94-.94-2.06-.94 2.06-2.06.94z\"/><path d=\"M17.41 7.96l-1.37-1.37c-.4-.4-.92-.59-1.43-.59-.52 0-1.04.2-1.43.59L10.3 9.45l-7.72 7.72c-.78.78-.78 2.05 0 2.83L4 21.41c.39.39.9.59 1.41.59.51 0 1.02-.2 1.41-.59l7.78-7.78 2.81-2.81c.8-.78.8-2.07 0-2.86zM5.41 20L4 18.59l7.72-7.72 1.47 1.35L5.41 20z\"/>\n",
              "  </svg>\n",
              "      </button>\n",
              "      \n",
              "  <style>\n",
              "    .colab-df-container {\n",
              "      display:flex;\n",
              "      flex-wrap:wrap;\n",
              "      gap: 12px;\n",
              "    }\n",
              "\n",
              "    .colab-df-convert {\n",
              "      background-color: #E8F0FE;\n",
              "      border: none;\n",
              "      border-radius: 50%;\n",
              "      cursor: pointer;\n",
              "      display: none;\n",
              "      fill: #1967D2;\n",
              "      height: 32px;\n",
              "      padding: 0 0 0 0;\n",
              "      width: 32px;\n",
              "    }\n",
              "\n",
              "    .colab-df-convert:hover {\n",
              "      background-color: #E2EBFA;\n",
              "      box-shadow: 0px 1px 2px rgba(60, 64, 67, 0.3), 0px 1px 3px 1px rgba(60, 64, 67, 0.15);\n",
              "      fill: #174EA6;\n",
              "    }\n",
              "\n",
              "    [theme=dark] .colab-df-convert {\n",
              "      background-color: #3B4455;\n",
              "      fill: #D2E3FC;\n",
              "    }\n",
              "\n",
              "    [theme=dark] .colab-df-convert:hover {\n",
              "      background-color: #434B5C;\n",
              "      box-shadow: 0px 1px 3px 1px rgba(0, 0, 0, 0.15);\n",
              "      filter: drop-shadow(0px 1px 2px rgba(0, 0, 0, 0.3));\n",
              "      fill: #FFFFFF;\n",
              "    }\n",
              "  </style>\n",
              "\n",
              "      <script>\n",
              "        const buttonEl =\n",
              "          document.querySelector('#df-1a3bc232-f570-4573-a4ee-e4930f14c460 button.colab-df-convert');\n",
              "        buttonEl.style.display =\n",
              "          google.colab.kernel.accessAllowed ? 'block' : 'none';\n",
              "\n",
              "        async function convertToInteractive(key) {\n",
              "          const element = document.querySelector('#df-1a3bc232-f570-4573-a4ee-e4930f14c460');\n",
              "          const dataTable =\n",
              "            await google.colab.kernel.invokeFunction('convertToInteractive',\n",
              "                                                     [key], {});\n",
              "          if (!dataTable) return;\n",
              "\n",
              "          const docLinkHtml = 'Like what you see? Visit the ' +\n",
              "            '<a target=\"_blank\" href=https://colab.research.google.com/notebooks/data_table.ipynb>data table notebook</a>'\n",
              "            + ' to learn more about interactive tables.';\n",
              "          element.innerHTML = '';\n",
              "          dataTable['output_type'] = 'display_data';\n",
              "          await google.colab.output.renderOutput(dataTable, element);\n",
              "          const docLink = document.createElement('div');\n",
              "          docLink.innerHTML = docLinkHtml;\n",
              "          element.appendChild(docLink);\n",
              "        }\n",
              "      </script>\n",
              "    </div>\n",
              "  </div>\n",
              "  "
            ]
          },
          "metadata": {},
          "execution_count": 26
        }
      ],
      "source": [
        "#Now we'll create our 'Target' column, which will indicate if our stock value \n",
        "#increase (Target = 1)  or decrease (Target = 0) the next day\n",
        "dataset['Target'] = (dataset['Tomorrow'] > dataset['Adj Close']).astype(int)\n",
        "dataset.tail(10)"
      ]
    },
    {
      "cell_type": "code",
      "execution_count": 27,
      "metadata": {
        "id": "llj9f21ucAUq"
      },
      "outputs": [],
      "source": [
        "#Let's define our model and their parameters\n",
        "model = RandomForestClassifier(n_estimators = 200, min_samples_split = 50, random_state = 1)"
      ]
    },
    {
      "cell_type": "code",
      "execution_count": 28,
      "metadata": {
        "id": "w8ixtCdJjBF6"
      },
      "outputs": [],
      "source": [
        "#To avoid use future data to predict a future stock value behavior, we need to \n",
        "#train with past info (iloc[:-100]) and then test with the rest of the info (iloc[-100:])\n",
        "train = dataset.iloc[:-100]\n",
        "test = dataset.iloc[-100:]"
      ]
    },
    {
      "cell_type": "code",
      "execution_count": 29,
      "metadata": {
        "id": "rx8oRCjykBgU"
      },
      "outputs": [],
      "source": [
        "#Defining our predictors (columns to use)\n",
        "predictors = ['Open','High',\t'Low',\t'Close',\t'Volume']"
      ]
    },
    {
      "cell_type": "code",
      "execution_count": 30,
      "metadata": {
        "colab": {
          "base_uri": "https://localhost:8080/",
          "height": 74
        },
        "id": "t6s1oph3kXLj",
        "outputId": "77fdc680-330b-4d22-ddae-e1a182481ff7"
      },
      "outputs": [
        {
          "output_type": "execute_result",
          "data": {
            "text/plain": [
              "RandomForestClassifier(min_samples_split=50, n_estimators=200, random_state=1)"
            ],
            "text/html": [
              "<style>#sk-container-id-2 {color: black;background-color: white;}#sk-container-id-2 pre{padding: 0;}#sk-container-id-2 div.sk-toggleable {background-color: white;}#sk-container-id-2 label.sk-toggleable__label {cursor: pointer;display: block;width: 100%;margin-bottom: 0;padding: 0.3em;box-sizing: border-box;text-align: center;}#sk-container-id-2 label.sk-toggleable__label-arrow:before {content: \"▸\";float: left;margin-right: 0.25em;color: #696969;}#sk-container-id-2 label.sk-toggleable__label-arrow:hover:before {color: black;}#sk-container-id-2 div.sk-estimator:hover label.sk-toggleable__label-arrow:before {color: black;}#sk-container-id-2 div.sk-toggleable__content {max-height: 0;max-width: 0;overflow: hidden;text-align: left;background-color: #f0f8ff;}#sk-container-id-2 div.sk-toggleable__content pre {margin: 0.2em;color: black;border-radius: 0.25em;background-color: #f0f8ff;}#sk-container-id-2 input.sk-toggleable__control:checked~div.sk-toggleable__content {max-height: 200px;max-width: 100%;overflow: auto;}#sk-container-id-2 input.sk-toggleable__control:checked~label.sk-toggleable__label-arrow:before {content: \"▾\";}#sk-container-id-2 div.sk-estimator input.sk-toggleable__control:checked~label.sk-toggleable__label {background-color: #d4ebff;}#sk-container-id-2 div.sk-label input.sk-toggleable__control:checked~label.sk-toggleable__label {background-color: #d4ebff;}#sk-container-id-2 input.sk-hidden--visually {border: 0;clip: rect(1px 1px 1px 1px);clip: rect(1px, 1px, 1px, 1px);height: 1px;margin: -1px;overflow: hidden;padding: 0;position: absolute;width: 1px;}#sk-container-id-2 div.sk-estimator {font-family: monospace;background-color: #f0f8ff;border: 1px dotted black;border-radius: 0.25em;box-sizing: border-box;margin-bottom: 0.5em;}#sk-container-id-2 div.sk-estimator:hover {background-color: #d4ebff;}#sk-container-id-2 div.sk-parallel-item::after {content: \"\";width: 100%;border-bottom: 1px solid gray;flex-grow: 1;}#sk-container-id-2 div.sk-label:hover label.sk-toggleable__label {background-color: #d4ebff;}#sk-container-id-2 div.sk-serial::before {content: \"\";position: absolute;border-left: 1px solid gray;box-sizing: border-box;top: 0;bottom: 0;left: 50%;z-index: 0;}#sk-container-id-2 div.sk-serial {display: flex;flex-direction: column;align-items: center;background-color: white;padding-right: 0.2em;padding-left: 0.2em;position: relative;}#sk-container-id-2 div.sk-item {position: relative;z-index: 1;}#sk-container-id-2 div.sk-parallel {display: flex;align-items: stretch;justify-content: center;background-color: white;position: relative;}#sk-container-id-2 div.sk-item::before, #sk-container-id-2 div.sk-parallel-item::before {content: \"\";position: absolute;border-left: 1px solid gray;box-sizing: border-box;top: 0;bottom: 0;left: 50%;z-index: -1;}#sk-container-id-2 div.sk-parallel-item {display: flex;flex-direction: column;z-index: 1;position: relative;background-color: white;}#sk-container-id-2 div.sk-parallel-item:first-child::after {align-self: flex-end;width: 50%;}#sk-container-id-2 div.sk-parallel-item:last-child::after {align-self: flex-start;width: 50%;}#sk-container-id-2 div.sk-parallel-item:only-child::after {width: 0;}#sk-container-id-2 div.sk-dashed-wrapped {border: 1px dashed gray;margin: 0 0.4em 0.5em 0.4em;box-sizing: border-box;padding-bottom: 0.4em;background-color: white;}#sk-container-id-2 div.sk-label label {font-family: monospace;font-weight: bold;display: inline-block;line-height: 1.2em;}#sk-container-id-2 div.sk-label-container {text-align: center;}#sk-container-id-2 div.sk-container {/* jupyter's `normalize.less` sets `[hidden] { display: none; }` but bootstrap.min.css set `[hidden] { display: none !important; }` so we also need the `!important` here to be able to override the default hidden behavior on the sphinx rendered scikit-learn.org. See: https://github.com/scikit-learn/scikit-learn/issues/21755 */display: inline-block !important;position: relative;}#sk-container-id-2 div.sk-text-repr-fallback {display: none;}</style><div id=\"sk-container-id-2\" class=\"sk-top-container\"><div class=\"sk-text-repr-fallback\"><pre>RandomForestClassifier(min_samples_split=50, n_estimators=200, random_state=1)</pre><b>In a Jupyter environment, please rerun this cell to show the HTML representation or trust the notebook. <br />On GitHub, the HTML representation is unable to render, please try loading this page with nbviewer.org.</b></div><div class=\"sk-container\" hidden><div class=\"sk-item\"><div class=\"sk-estimator sk-toggleable\"><input class=\"sk-toggleable__control sk-hidden--visually\" id=\"sk-estimator-id-2\" type=\"checkbox\" checked><label for=\"sk-estimator-id-2\" class=\"sk-toggleable__label sk-toggleable__label-arrow\">RandomForestClassifier</label><div class=\"sk-toggleable__content\"><pre>RandomForestClassifier(min_samples_split=50, n_estimators=200, random_state=1)</pre></div></div></div></div></div>"
            ]
          },
          "metadata": {},
          "execution_count": 30
        }
      ],
      "source": [
        "#Fitting our model with our predictors and our target data\n",
        "model.fit(train[predictors], train['Target'])"
      ]
    },
    {
      "cell_type": "code",
      "execution_count": 31,
      "metadata": {
        "id": "gq2-CHpplJS2"
      },
      "outputs": [],
      "source": [
        "#Obtaining our predicted values\n",
        "preds = model.predict(test[predictors])"
      ]
    },
    {
      "cell_type": "code",
      "execution_count": 32,
      "metadata": {
        "colab": {
          "base_uri": "https://localhost:8080/"
        },
        "id": "vy1KCSIFmDpu",
        "outputId": "53d1e1d1-cad2-4ca4-86e9-a612e758ec00"
      },
      "outputs": [
        {
          "output_type": "execute_result",
          "data": {
            "text/plain": [
              "Date\n",
              "01/11/2022    0\n",
              "02/11/2022    0\n",
              "03/11/2022    1\n",
              "04/11/2022    1\n",
              "07/11/2022    1\n",
              "             ..\n",
              "21/03/2023    1\n",
              "22/03/2023    0\n",
              "23/03/2023    0\n",
              "24/03/2023    1\n",
              "27/03/2023    0\n",
              "Length: 100, dtype: int64"
            ]
          },
          "metadata": {},
          "execution_count": 32
        }
      ],
      "source": [
        "#we will transform preds from array to Series for an easy manipulation\n",
        "preds = pd.Series(preds, index = test.index)\n",
        "preds"
      ]
    },
    {
      "cell_type": "code",
      "execution_count": 33,
      "metadata": {
        "colab": {
          "base_uri": "https://localhost:8080/"
        },
        "id": "qF2nrJWVd0IR",
        "outputId": "9da4be86-acd4-45b8-a771-1b74ea1ccb76"
      },
      "outputs": [
        {
          "output_type": "execute_result",
          "data": {
            "text/plain": [
              "0.5254237288135594"
            ]
          },
          "metadata": {},
          "execution_count": 33
        }
      ],
      "source": [
        "#Calculating our prediction score\n",
        "precision_score(test['Target'], preds)"
      ]
    },
    {
      "cell_type": "code",
      "execution_count": 34,
      "metadata": {
        "id": "RJyrB7cqmV_Z"
      },
      "outputs": [],
      "source": [
        "#We'll concatenate both columns in one dataframe.\n",
        "#remember: axis = 1 means treat each one of these objects as a column\n",
        "combined = pd.concat([test['Target'], preds], axis = 1)"
      ]
    },
    {
      "cell_type": "code",
      "execution_count": 35,
      "metadata": {
        "colab": {
          "base_uri": "https://localhost:8080/",
          "height": 469
        },
        "id": "peVRxzXOnLeC",
        "outputId": "6bd6ebf3-0b83-4ea6-aa0a-a46882ee5cd5"
      },
      "outputs": [
        {
          "output_type": "execute_result",
          "data": {
            "text/plain": [
              "<Axes: title={'center': 'APPLE Comparisson stock trends'}, xlabel='Date', ylabel='Trend'>"
            ]
          },
          "metadata": {},
          "execution_count": 35
        },
        {
          "output_type": "display_data",
          "data": {
            "text/plain": [
              "<Figure size 1500x700 with 1 Axes>"
            ],
            "image/png": "[encoded data removed]"
          },
          "metadata": {}
        }
      ],
      "source": [
        "#Let's see, in a plot, the comparisson between our targets and our predictions\n",
        "combined.tail(20).plot(figsize=(15, 7), ylabel = 'Trend', title = 'APPLE Comparisson stock trends')\n"
      ]
    },
    {
      "cell_type": "code",
      "execution_count": 36,
      "metadata": {
        "id": "ih-E3-kscZjv"
      },
      "outputs": [],
      "source": [
        "#we will make a backtesting to use the old data in a better way, \n",
        "#so our model would obtain better results using the same data.\n",
        "def predict (train, test, predictors, model):\n",
        "    model.fit(train[predictors], train['Target'])\n",
        "    preds = model.predict_proba(test[predictors])[:,1]\n",
        "    preds[preds >= .6] = 1\n",
        "    preds[preds < .6] = 0\n",
        "    preds = pd.Series(preds, index = test.index, name = 'Predictions')\n",
        "    combined = pd.concat([test['Target'], preds], axis = 1)\n",
        "    return combined"
      ]
    },
    {
      "cell_type": "code",
      "execution_count": 39,
      "metadata": {
        "id": "U0LfBmp3n7Xq"
      },
      "outputs": [],
      "source": [
        "#we'll create a backtest to predict in a movil range of days\n",
        "#so, in this case, we will take a range of ten years (start = 2500)\n",
        "#and will train models year by year (step = 250)\n",
        "def backtest(data, model, predictors, start = 2500, step = 250):\n",
        "  all_predictions = []\n",
        "  for i in range(start, data.shape[0], step):\n",
        "    #all of the time previous\n",
        "    train = data.iloc[:i].copy()\n",
        "    #all of the time posteriour\n",
        "    test = data.iloc[i:(i+step)].copy()\n",
        "    predictions = predict(train, test, predictors, model)\n",
        "    all_predictions.append(predictions)\n",
        "  return pd.concat(all_predictions)"
      ]
    },
    {
      "cell_type": "code",
      "execution_count": 40,
      "metadata": {
        "id": "ZsmRrw8jdkej"
      },
      "outputs": [],
      "source": [
        "predictions = backtest(dataset, model, predictors)"
      ]
    },
    {
      "cell_type": "code",
      "execution_count": 41,
      "metadata": {
        "id": "FNAxNw4bds-N",
        "colab": {
          "base_uri": "https://localhost:8080/"
        },
        "outputId": "b8dd7642-1417-4e66-ca64-be0c3611cd44"
      },
      "outputs": [
        {
          "output_type": "execute_result",
          "data": {
            "text/plain": [
              "0.0    7066\n",
              "1.0    1095\n",
              "Name: Predictions, dtype: int64"
            ]
          },
          "metadata": {},
          "execution_count": 41
        }
      ],
      "source": [
        "#Here we will see how many times a type of prediction was made (0 or 1)\n",
        "predictions['Predictions'].value_counts()"
      ]
    },
    {
      "cell_type": "code",
      "execution_count": 43,
      "metadata": {
        "id": "er5DRWicqNxC",
        "colab": {
          "base_uri": "https://localhost:8080/"
        },
        "outputId": "5839ed77-e5ea-4194-c6e1-13827f76f6dd"
      },
      "outputs": [
        {
          "output_type": "execute_result",
          "data": {
            "text/plain": [
              "0.5360730593607306"
            ]
          },
          "metadata": {},
          "execution_count": 43
        }
      ],
      "source": [
        "#with this we have this new precision score, which is better than our previous \n",
        "#precision score calculated\n",
        "precision_score(predictions['Target'], predictions['Predictions'])"
      ]
    },
    {
      "cell_type": "code",
      "execution_count": 44,
      "metadata": {
        "id": "XU0G4Qt-d9vt",
        "colab": {
          "base_uri": "https://localhost:8080/"
        },
        "outputId": "5b3f3dde-3f17-4d2f-c539-8627754fee35"
      },
      "outputs": [
        {
          "output_type": "execute_result",
          "data": {
            "text/plain": [
              "1    0.507413\n",
              "0    0.492587\n",
              "Name: Target, dtype: float64"
            ]
          },
          "metadata": {},
          "execution_count": 44
        }
      ],
      "source": [
        "#This will give us the percentage of time that our model predict\n",
        "#correctly the rise or fall in the value of the stock\n",
        "predictions['Target'].value_counts()/predictions.shape[0]"
      ]
    },
    {
      "cell_type": "markdown",
      "metadata": {
        "id": "GFYe-0Z0pa59"
      },
      "source": [
        "Impresive, but not enough. Now the idea is create more predictors and improve our accuracy"
      ]
    },
    {
      "cell_type": "code",
      "execution_count": 46,
      "metadata": {
        "id": "G8bGOpF8pYgV"
      },
      "outputs": [],
      "source": [
        "#We will create temporal horizons to look results and see the stock behaviour through the time (in days)\n",
        "horizons = [2,5,60,250,1000]"
      ]
    },
    {
      "cell_type": "code",
      "execution_count": 47,
      "metadata": {
        "id": "SKVzWMdsqAUu"
      },
      "outputs": [],
      "source": [
        "new_predictors = []\n",
        "\n",
        "for horizon in horizons:\n",
        "  rolling_averages = dataset.rolling(horizon).mean()\n",
        "  ratio_column = f\"Close_Ratio_{horizon}\"\n",
        "  dataset[ratio_column] = dataset[\"Close\"]/rolling_averages[\"Close\"]\n",
        "\n",
        "#we can look the trend of the stock value (see, in a given horizon, the Target Average)\n",
        "  trend_column = f\"Trend_{horizon}\"\n",
        "  dataset[trend_column] = dataset.shift(1).rolling(horizon).sum()[\"Target\"]\n",
        "\n",
        "  new_predictors += [ratio_column, trend_column]"
      ]
    },
    {
      "cell_type": "code",
      "execution_count": 48,
      "metadata": {
        "id": "6_uYUBJUsDXN",
        "colab": {
          "base_uri": "https://localhost:8080/",
          "height": 519
        },
        "outputId": "ef3a4b58-3325-4c29-d28c-0aaf251d059a"
      },
      "outputs": [
        {
          "output_type": "execute_result",
          "data": {
            "text/plain": [
              "                  Open        High         Low       Close   Adj Close  \\\n",
              "Date                                                                     \n",
              "12/12/1980    0.128348    0.128906    0.128348    0.128348    0.099722   \n",
              "15/12/1980    0.122210    0.122210    0.121652    0.121652    0.094519   \n",
              "16/12/1980    0.113281    0.113281    0.112723    0.112723    0.087581   \n",
              "17/12/1980    0.115513    0.116071    0.115513    0.115513    0.089749   \n",
              "18/12/1980    0.118862    0.119420    0.118862    0.118862    0.092351   \n",
              "...                ...         ...         ...         ...         ...   \n",
              "21/03/2023  157.320007  159.399994  156.539993  159.279999  159.279999   \n",
              "22/03/2023  159.300003  162.139999  157.809998  157.830002  157.830002   \n",
              "23/03/2023  158.830002  161.550003  157.679993  158.929993  158.929993   \n",
              "24/03/2023  158.860001  160.339996  157.850006  160.250000  160.250000   \n",
              "27/03/2023  159.940002  160.770004  157.869995  158.279999  158.279999   \n",
              "\n",
              "                 Volume    Tomorrow  Target  Close_Ratio_2  Trend_2  \\\n",
              "Date                                                                  \n",
              "12/12/1980  469033600.0    0.094519       0            NaN      NaN   \n",
              "15/12/1980  175884800.0    0.087581       0       0.973216      NaN   \n",
              "16/12/1980  105728000.0    0.089749       1       0.961903      0.0   \n",
              "17/12/1980   86441600.0    0.092351       1       1.012224      1.0   \n",
              "18/12/1980   73449600.0    0.097987       1       1.014289      2.0   \n",
              "...                 ...         ...     ...            ...      ...   \n",
              "21/03/2023   73938300.0  157.830002       0       1.005937      2.0   \n",
              "22/03/2023   75701800.0  158.929993       1       0.995427      1.0   \n",
              "23/03/2023   67622100.0  160.250000       1       1.003473      1.0   \n",
              "24/03/2023   59196500.0  158.279999       0       1.004136      2.0   \n",
              "27/03/2023   52390300.0         NaN       0       0.993815      1.0   \n",
              "\n",
              "            Close_Ratio_5  Trend_5  Close_Ratio_60  Trend_60  Close_Ratio_250  \\\n",
              "Date                                                                            \n",
              "12/12/1980            NaN      NaN             NaN       NaN              NaN   \n",
              "15/12/1980            NaN      NaN             NaN       NaN              NaN   \n",
              "16/12/1980            NaN      NaN             NaN       NaN              NaN   \n",
              "17/12/1980            NaN      NaN             NaN       NaN              NaN   \n",
              "18/12/1980       0.995331      NaN             NaN       NaN              NaN   \n",
              "...                   ...      ...             ...       ...              ...   \n",
              "21/03/2023       1.020345      4.0        1.105228      36.0         1.061001   \n",
              "22/03/2023       1.004826      3.0        1.091934      36.0         1.051689   \n",
              "23/03/2023       1.007876      3.0        1.096123      37.0         1.059446   \n",
              "24/03/2023       1.009525      4.0        1.101401      38.0         1.068658   \n",
              "27/03/2023       0.996010      3.0        1.083858      38.0         1.056008   \n",
              "\n",
              "            Trend_250  Close_Ratio_1000  Trend_1000  \n",
              "Date                                                 \n",
              "12/12/1980        NaN               NaN         NaN  \n",
              "15/12/1980        NaN               NaN         NaN  \n",
              "16/12/1980        NaN               NaN         NaN  \n",
              "17/12/1980        NaN               NaN         NaN  \n",
              "18/12/1980        NaN               NaN         NaN  \n",
              "...               ...               ...         ...  \n",
              "21/03/2023      128.0          1.363832       529.0  \n",
              "22/03/2023      127.0          1.350153       528.0  \n",
              "23/03/2023      127.0          1.358284       528.0  \n",
              "24/03/2023      127.0          1.368263       528.0  \n",
              "27/03/2023      126.0          1.350186       527.0  \n",
              "\n",
              "[10661 rows x 18 columns]"
            ],
            "text/html": [
              "\n",
              "  <div id=\"df-69c973d0-4129-4fed-a756-b73a35fdb091\">\n",
              "    <div class=\"colab-df-container\">\n",
              "      <div>\n",
              "<style scoped>\n",
              "    .dataframe tbody tr th:only-of-type {\n",
              "        vertical-align: middle;\n",
              "    }\n",
              "\n",
              "    .dataframe tbody tr th {\n",
              "        vertical-align: top;\n",
              "    }\n",
              "\n",
              "    .dataframe thead th {\n",
              "        text-align: right;\n",
              "    }\n",
              "</style>\n",
              "<table border=\"1\" class=\"dataframe\">\n",
              "  <thead>\n",
              "    <tr style=\"text-align: right;\">\n",
              "      <th></th>\n",
              "      <th>Open</th>\n",
              "      <th>High</th>\n",
              "      <th>Low</th>\n",
              "      <th>Close</th>\n",
              "      <th>Adj Close</th>\n",
              "      <th>Volume</th>\n",
              "      <th>Tomorrow</th>\n",
              "      <th>Target</th>\n",
              "      <th>Close_Ratio_2</th>\n",
              "      <th>Trend_2</th>\n",
              "      <th>Close_Ratio_5</th>\n",
              "      <th>Trend_5</th>\n",
              "      <th>Close_Ratio_60</th>\n",
              "      <th>Trend_60</th>\n",
              "      <th>Close_Ratio_250</th>\n",
              "      <th>Trend_250</th>\n",
              "      <th>Close_Ratio_1000</th>\n",
              "      <th>Trend_1000</th>\n",
              "    </tr>\n",
              "    <tr>\n",
              "      <th>Date</th>\n",
              "      <th></th>\n",
              "      <th></th>\n",
              "      <th></th>\n",
              "      <th></th>\n",
              "      <th></th>\n",
              "      <th></th>\n",
              "      <th></th>\n",
              "      <th></th>\n",
              "      <th></th>\n",
              "      <th></th>\n",
              "      <th></th>\n",
              "      <th></th>\n",
              "      <th></th>\n",
              "      <th></th>\n",
              "      <th></th>\n",
              "      <th></th>\n",
              "      <th></th>\n",
              "      <th></th>\n",
              "    </tr>\n",
              "  </thead>\n",
              "  <tbody>\n",
              "    <tr>\n",
              "      <th>12/12/1980</th>\n",
              "      <td>0.128348</td>\n",
              "      <td>0.128906</td>\n",
              "      <td>0.128348</td>\n",
              "      <td>0.128348</td>\n",
              "      <td>0.099722</td>\n",
              "      <td>469033600.0</td>\n",
              "      <td>0.094519</td>\n",
              "      <td>0</td>\n",
              "      <td>NaN</td>\n",
              "      <td>NaN</td>\n",
              "      <td>NaN</td>\n",
              "      <td>NaN</td>\n",
              "      <td>NaN</td>\n",
              "      <td>NaN</td>\n",
              "      <td>NaN</td>\n",
              "      <td>NaN</td>\n",
              "      <td>NaN</td>\n",
              "      <td>NaN</td>\n",
              "    </tr>\n",
              "    <tr>\n",
              "      <th>15/12/1980</th>\n",
              "      <td>0.122210</td>\n",
              "      <td>0.122210</td>\n",
              "      <td>0.121652</td>\n",
              "      <td>0.121652</td>\n",
              "      <td>0.094519</td>\n",
              "      <td>175884800.0</td>\n",
              "      <td>0.087581</td>\n",
              "      <td>0</td>\n",
              "      <td>0.973216</td>\n",
              "      <td>NaN</td>\n",
              "      <td>NaN</td>\n",
              "      <td>NaN</td>\n",
              "      <td>NaN</td>\n",
              "      <td>NaN</td>\n",
              "      <td>NaN</td>\n",
              "      <td>NaN</td>\n",
              "      <td>NaN</td>\n",
              "      <td>NaN</td>\n",
              "    </tr>\n",
              "    <tr>\n",
              "      <th>16/12/1980</th>\n",
              "      <td>0.113281</td>\n",
              "      <td>0.113281</td>\n",
              "      <td>0.112723</td>\n",
              "      <td>0.112723</td>\n",
              "      <td>0.087581</td>\n",
              "      <td>105728000.0</td>\n",
              "      <td>0.089749</td>\n",
              "      <td>1</td>\n",
              "      <td>0.961903</td>\n",
              "      <td>0.0</td>\n",
              "      <td>NaN</td>\n",
              "      <td>NaN</td>\n",
              "      <td>NaN</td>\n",
              "      <td>NaN</td>\n",
              "      <td>NaN</td>\n",
              "      <td>NaN</td>\n",
              "      <td>NaN</td>\n",
              "      <td>NaN</td>\n",
              "    </tr>\n",
              "    <tr>\n",
              "      <th>17/12/1980</th>\n",
              "      <td>0.115513</td>\n",
              "      <td>0.116071</td>\n",
              "      <td>0.115513</td>\n",
              "      <td>0.115513</td>\n",
              "      <td>0.089749</td>\n",
              "      <td>86441600.0</td>\n",
              "      <td>0.092351</td>\n",
              "      <td>1</td>\n",
              "      <td>1.012224</td>\n",
              "      <td>1.0</td>\n",
              "      <td>NaN</td>\n",
              "      <td>NaN</td>\n",
              "      <td>NaN</td>\n",
              "      <td>NaN</td>\n",
              "      <td>NaN</td>\n",
              "      <td>NaN</td>\n",
              "      <td>NaN</td>\n",
              "      <td>NaN</td>\n",
              "    </tr>\n",
              "    <tr>\n",
              "      <th>18/12/1980</th>\n",
              "      <td>0.118862</td>\n",
              "      <td>0.119420</td>\n",
              "      <td>0.118862</td>\n",
              "      <td>0.118862</td>\n",
              "      <td>0.092351</td>\n",
              "      <td>73449600.0</td>\n",
              "      <td>0.097987</td>\n",
              "      <td>1</td>\n",
              "      <td>1.014289</td>\n",
              "      <td>2.0</td>\n",
              "      <td>0.995331</td>\n",
              "      <td>NaN</td>\n",
              "      <td>NaN</td>\n",
              "      <td>NaN</td>\n",
              "      <td>NaN</td>\n",
              "      <td>NaN</td>\n",
              "      <td>NaN</td>\n",
              "      <td>NaN</td>\n",
              "    </tr>\n",
              "    <tr>\n",
              "      <th>...</th>\n",
              "      <td>...</td>\n",
              "      <td>...</td>\n",
              "      <td>...</td>\n",
              "      <td>...</td>\n",
              "      <td>...</td>\n",
              "      <td>...</td>\n",
              "      <td>...</td>\n",
              "      <td>...</td>\n",
              "      <td>...</td>\n",
              "      <td>...</td>\n",
              "      <td>...</td>\n",
              "      <td>...</td>\n",
              "      <td>...</td>\n",
              "      <td>...</td>\n",
              "      <td>...</td>\n",
              "      <td>...</td>\n",
              "      <td>...</td>\n",
              "      <td>...</td>\n",
              "    </tr>\n",
              "    <tr>\n",
              "      <th>21/03/2023</th>\n",
              "      <td>157.320007</td>\n",
              "      <td>159.399994</td>\n",
              "      <td>156.539993</td>\n",
              "      <td>159.279999</td>\n",
              "      <td>159.279999</td>\n",
              "      <td>73938300.0</td>\n",
              "      <td>157.830002</td>\n",
              "      <td>0</td>\n",
              "      <td>1.005937</td>\n",
              "      <td>2.0</td>\n",
              "      <td>1.020345</td>\n",
              "      <td>4.0</td>\n",
              "      <td>1.105228</td>\n",
              "      <td>36.0</td>\n",
              "      <td>1.061001</td>\n",
              "      <td>128.0</td>\n",
              "      <td>1.363832</td>\n",
              "      <td>529.0</td>\n",
              "    </tr>\n",
              "    <tr>\n",
              "      <th>22/03/2023</th>\n",
              "      <td>159.300003</td>\n",
              "      <td>162.139999</td>\n",
              "      <td>157.809998</td>\n",
              "      <td>157.830002</td>\n",
              "      <td>157.830002</td>\n",
              "      <td>75701800.0</td>\n",
              "      <td>158.929993</td>\n",
              "      <td>1</td>\n",
              "      <td>0.995427</td>\n",
              "      <td>1.0</td>\n",
              "      <td>1.004826</td>\n",
              "      <td>3.0</td>\n",
              "      <td>1.091934</td>\n",
              "      <td>36.0</td>\n",
              "      <td>1.051689</td>\n",
              "      <td>127.0</td>\n",
              "      <td>1.350153</td>\n",
              "      <td>528.0</td>\n",
              "    </tr>\n",
              "    <tr>\n",
              "      <th>23/03/2023</th>\n",
              "      <td>158.830002</td>\n",
              "      <td>161.550003</td>\n",
              "      <td>157.679993</td>\n",
              "      <td>158.929993</td>\n",
              "      <td>158.929993</td>\n",
              "      <td>67622100.0</td>\n",
              "      <td>160.250000</td>\n",
              "      <td>1</td>\n",
              "      <td>1.003473</td>\n",
              "      <td>1.0</td>\n",
              "      <td>1.007876</td>\n",
              "      <td>3.0</td>\n",
              "      <td>1.096123</td>\n",
              "      <td>37.0</td>\n",
              "      <td>1.059446</td>\n",
              "      <td>127.0</td>\n",
              "      <td>1.358284</td>\n",
              "      <td>528.0</td>\n",
              "    </tr>\n",
              "    <tr>\n",
              "      <th>24/03/2023</th>\n",
              "      <td>158.860001</td>\n",
              "      <td>160.339996</td>\n",
              "      <td>157.850006</td>\n",
              "      <td>160.250000</td>\n",
              "      <td>160.250000</td>\n",
              "      <td>59196500.0</td>\n",
              "      <td>158.279999</td>\n",
              "      <td>0</td>\n",
              "      <td>1.004136</td>\n",
              "      <td>2.0</td>\n",
              "      <td>1.009525</td>\n",
              "      <td>4.0</td>\n",
              "      <td>1.101401</td>\n",
              "      <td>38.0</td>\n",
              "      <td>1.068658</td>\n",
              "      <td>127.0</td>\n",
              "      <td>1.368263</td>\n",
              "      <td>528.0</td>\n",
              "    </tr>\n",
              "    <tr>\n",
              "      <th>27/03/2023</th>\n",
              "      <td>159.940002</td>\n",
              "      <td>160.770004</td>\n",
              "      <td>157.869995</td>\n",
              "      <td>158.279999</td>\n",
              "      <td>158.279999</td>\n",
              "      <td>52390300.0</td>\n",
              "      <td>NaN</td>\n",
              "      <td>0</td>\n",
              "      <td>0.993815</td>\n",
              "      <td>1.0</td>\n",
              "      <td>0.996010</td>\n",
              "      <td>3.0</td>\n",
              "      <td>1.083858</td>\n",
              "      <td>38.0</td>\n",
              "      <td>1.056008</td>\n",
              "      <td>126.0</td>\n",
              "      <td>1.350186</td>\n",
              "      <td>527.0</td>\n",
              "    </tr>\n",
              "  </tbody>\n",
              "</table>\n",
              "<p>10661 rows × 18 columns</p>\n",
              "</div>\n",
              "      <button class=\"colab-df-convert\" onclick=\"convertToInteractive('df-69c973d0-4129-4fed-a756-b73a35fdb091')\"\n",
              "              title=\"Convert this dataframe to an interactive table.\"\n",
              "              style=\"display:none;\">\n",
              "        \n",
              "  <svg xmlns=\"http://www.w3.org/2000/svg\" height=\"24px\"viewBox=\"0 0 24 24\"\n",
              "       width=\"24px\">\n",
              "    <path d=\"M0 0h24v24H0V0z\" fill=\"none\"/>\n",
              "    <path d=\"M18.56 5.44l.94 2.06.94-2.06 2.06-.94-2.06-.94-.94-2.06-.94 2.06-2.06.94zm-11 1L8.5 8.5l.94-2.06 2.06-.94-2.06-.94L8.5 2.5l-.94 2.06-2.06.94zm10 10l.94 2.06.94-2.06 2.06-.94-2.06-.94-.94-2.06-.94 2.06-2.06.94z\"/><path d=\"M17.41 7.96l-1.37-1.37c-.4-.4-.92-.59-1.43-.59-.52 0-1.04.2-1.43.59L10.3 9.45l-7.72 7.72c-.78.78-.78 2.05 0 2.83L4 21.41c.39.39.9.59 1.41.59.51 0 1.02-.2 1.41-.59l7.78-7.78 2.81-2.81c.8-.78.8-2.07 0-2.86zM5.41 20L4 18.59l7.72-7.72 1.47 1.35L5.41 20z\"/>\n",
              "  </svg>\n",
              "      </button>\n",
              "      \n",
              "  <style>\n",
              "    .colab-df-container {\n",
              "      display:flex;\n",
              "      flex-wrap:wrap;\n",
              "      gap: 12px;\n",
              "    }\n",
              "\n",
              "    .colab-df-convert {\n",
              "      background-color: #E8F0FE;\n",
              "      border: none;\n",
              "      border-radius: 50%;\n",
              "      cursor: pointer;\n",
              "      display: none;\n",
              "      fill: #1967D2;\n",
              "      height: 32px;\n",
              "      padding: 0 0 0 0;\n",
              "      width: 32px;\n",
              "    }\n",
              "\n",
              "    .colab-df-convert:hover {\n",
              "      background-color: #E2EBFA;\n",
              "      box-shadow: 0px 1px 2px rgba(60, 64, 67, 0.3), 0px 1px 3px 1px rgba(60, 64, 67, 0.15);\n",
              "      fill: #174EA6;\n",
              "    }\n",
              "\n",
              "    [theme=dark] .colab-df-convert {\n",
              "      background-color: #3B4455;\n",
              "      fill: #D2E3FC;\n",
              "    }\n",
              "\n",
              "    [theme=dark] .colab-df-convert:hover {\n",
              "      background-color: #434B5C;\n",
              "      box-shadow: 0px 1px 3px 1px rgba(0, 0, 0, 0.15);\n",
              "      filter: drop-shadow(0px 1px 2px rgba(0, 0, 0, 0.3));\n",
              "      fill: #FFFFFF;\n",
              "    }\n",
              "  </style>\n",
              "\n",
              "      <script>\n",
              "        const buttonEl =\n",
              "          document.querySelector('#df-69c973d0-4129-4fed-a756-b73a35fdb091 button.colab-df-convert');\n",
              "        buttonEl.style.display =\n",
              "          google.colab.kernel.accessAllowed ? 'block' : 'none';\n",
              "\n",
              "        async function convertToInteractive(key) {\n",
              "          const element = document.querySelector('#df-69c973d0-4129-4fed-a756-b73a35fdb091');\n",
              "          const dataTable =\n",
              "            await google.colab.kernel.invokeFunction('convertToInteractive',\n",
              "                                                     [key], {});\n",
              "          if (!dataTable) return;\n",
              "\n",
              "          const docLinkHtml = 'Like what you see? Visit the ' +\n",
              "            '<a target=\"_blank\" href=https://colab.research.google.com/notebooks/data_table.ipynb>data table notebook</a>'\n",
              "            + ' to learn more about interactive tables.';\n",
              "          element.innerHTML = '';\n",
              "          dataTable['output_type'] = 'display_data';\n",
              "          await google.colab.output.renderOutput(dataTable, element);\n",
              "          const docLink = document.createElement('div');\n",
              "          docLink.innerHTML = docLinkHtml;\n",
              "          element.appendChild(docLink);\n",
              "        }\n",
              "      </script>\n",
              "    </div>\n",
              "  </div>\n",
              "  "
            ]
          },
          "metadata": {},
          "execution_count": 48
        }
      ],
      "source": [
        "#Now we'll see a lot of NaN in our dataset table, and that's because panda \n",
        "#cannot find enough days previous to the current row to execute the rolling process,\n",
        "#so panda returns NaN\n",
        "dataset"
      ]
    },
    {
      "cell_type": "code",
      "execution_count": 49,
      "metadata": {
        "id": "IU4TCOPws1eZ"
      },
      "outputs": [],
      "source": [
        "#We will use drop.na to get rid of those NaN\n",
        "dataset = dataset.dropna()"
      ]
    },
    {
      "cell_type": "code",
      "execution_count": 50,
      "metadata": {
        "id": "BHZrNV8_tFur"
      },
      "outputs": [],
      "source": [
        "#With this new table we can see if our model improves\n",
        "model = RandomForestClassifier(n_estimators = 200, min_samples_split = 50, random_state = 1)"
      ]
    },
    {
      "cell_type": "code",
      "execution_count": 51,
      "metadata": {
        "id": "lYEBMfXstdko"
      },
      "outputs": [],
      "source": [
        "def predict (train, test, predictors, model):\n",
        "    model.fit(train[predictors], train['Target'])\n",
        "    preds = model.predict_proba(test[predictors])[:,1]\n",
        "   #Here we use .6 to show that the price goes up, so the model has a weight over\n",
        "   #the raise in the stock value\n",
        "    preds[preds >= .6] = 1\n",
        "    preds[preds < .6] = 0\n",
        "    preds = pd.Series(preds, index = test.index, name = 'Predictions')\n",
        "    combined = pd.concat([test['Target'], preds], axis = 1)\n",
        "    return combined"
      ]
    },
    {
      "cell_type": "code",
      "execution_count": 52,
      "metadata": {
        "id": "BV4UKUbBukjD"
      },
      "outputs": [],
      "source": [
        "#Doing the backtest again\n",
        "predictions = backtest(dataset, model, new_predictors)"
      ]
    },
    {
      "cell_type": "code",
      "execution_count": 53,
      "metadata": {
        "id": "89g3jkr1u2pP",
        "colab": {
          "base_uri": "https://localhost:8080/"
        },
        "outputId": "426e73f4-52f1-43df-bf38-5dc80633cab3"
      },
      "outputs": [
        {
          "output_type": "execute_result",
          "data": {
            "text/plain": [
              "0.0    6718\n",
              "1.0     442\n",
              "Name: Predictions, dtype: int64"
            ]
          },
          "metadata": {},
          "execution_count": 53
        }
      ],
      "source": [
        "#Here we will see that we have less days to buy stocks (predictions = 1), but\n",
        "# with a greater confidence than in the previous part\n",
        "predictions[\"Predictions\"].value_counts()"
      ]
    },
    {
      "cell_type": "code",
      "execution_count": 54,
      "metadata": {
        "id": "gJj4vgNXvZW6",
        "colab": {
          "base_uri": "https://localhost:8080/"
        },
        "outputId": "e7dc7674-30be-47eb-891b-76dcadde5e6f"
      },
      "outputs": [
        {
          "output_type": "execute_result",
          "data": {
            "text/plain": [
              "0.5565610859728507"
            ]
          },
          "metadata": {},
          "execution_count": 54
        }
      ],
      "source": [
        "#Finally we can see that our score is higher than the previous one, and allows us to\n",
        "# get more confidence to buy in those days when the predictions of the stock value shows an increment \n",
        "precision_score(predictions['Target'], predictions['Predictions'])"
      ]
    },
    {
      "cell_type": "markdown",
      "metadata": {
        "id": "fjMuuveNxDmm"
      },
      "source": [
        "#Summary\n",
        "\n",
        "\n",
        "\n",
        "*   We started with a Linear Regression to predict the exact value of the stock:\n",
        "    * Studying the dataset\n",
        "    * Cleaning the dataset\n",
        "    * Obtaining different metrics to evaluate the results\n",
        "    * Ploting the results to compare predictions over data\n",
        "\n",
        "*   We continue with a Random Forest Classifier to obtain trends in the stock value:\n",
        "    * Cleaning the dataset\n",
        "    * Setting up our Machine Learning Target\n",
        "    * Training our initial model\n",
        "    * Evaluating the error and create a backtest (to really evaluate the error over a period of time)\n",
        "    * Improving our model with some extra columns\n",
        "\n",
        "All of this is just to obtain some grade of comprehension over the data, looking for some trends that would indicate profit possibilities in case of buy stocks in a raise.\n",
        "\n",
        "Obviously, beating the stock market is a pretty optimistic way to putting it, but have certain degree of knowledge about the market could be a good help to avoid taking actions merely at random\n",
        "\n",
        "\n",
        "\n"
      ]
    }
  ],
  "metadata": {
    "colab": {
      "provenance": []
    },
    "kernelspec": {
      "display_name": "Python 3",
      "name": "python3"
    },
    "language_info": {
      "name": "python"
    }
  },
  "nbformat": 4,
  "nbformat_minor": 0
}